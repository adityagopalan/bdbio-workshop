{
 "cells": [
  {
   "cell_type": "code",
   "execution_count": 1,
   "metadata": {},
   "outputs": [],
   "source": [
    "import torch\n",
    "from transformers import AutoModelForCausalLM, AutoTokenizer\n",
    "import time\n",
    "import matplotlib.pyplot as plt\n",
    "import numpy as np\n",
    "from tqdm import tqdm"
   ]
  },
  {
   "cell_type": "code",
   "execution_count": 2,
   "metadata": {},
   "outputs": [
    {
     "name": "stderr",
     "output_type": "stream",
     "text": [
      "The new embeddings will be initialized from a multivariate normal distribution that has old embeddings' mean and covariance. As described in this article: https://nlp.stanford.edu/~johnhew/vocab-expansion.html. To disable this, use `mean_resizing=False`\n"
     ]
    },
    {
     "name": "stdout",
     "output_type": "stream",
     "text": [
      "Model loaded and moved to device: cuda\n"
     ]
    }
   ],
   "source": [
    "# Load GPT-2 model and tokenizer directly\n",
    "model_id = \"gpt2\"  # This is the 124M parameter version\n",
    "tokenizer = AutoTokenizer.from_pretrained(model_id)\n",
    "model = AutoModelForCausalLM.from_pretrained(\n",
    "    model_id,\n",
    "    torch_dtype=torch.float32,  # GPT-2 small works fine in full precision\n",
    ")\n",
    "\n",
    "# Add a proper pad token for GPT-2\n",
    "tokenizer.add_special_tokens({'pad_token': '[PAD]'})\n",
    "model.resize_token_embeddings(len(tokenizer))\n",
    "\n",
    "# Move to GPU if available\n",
    "device = torch.device(\"cuda\" if torch.cuda.is_available() else \"cpu\")\n",
    "model = model.to(device)\n",
    "print(\"Model loaded and moved to device:\", device)"
   ]
  },
  {
   "cell_type": "code",
   "execution_count": 3,
   "metadata": {},
   "outputs": [
    {
     "name": "stdout",
     "output_type": "stream",
     "text": [
      "The best way to learn programming is to understand the language, to understand that programming can be really complicated. You can write a program to understand\n"
     ]
    }
   ],
   "source": [
    "# Prepare the prompt\n",
    "prompt = \"The best way to learn programming is to\"\n",
    "inputs = tokenizer(prompt, return_tensors=\"pt\").to(device)\n",
    "\n",
    "# Generate text\n",
    "with torch.no_grad():\n",
    "    outputs = model.generate(\n",
    "        inputs.input_ids,\n",
    "        max_new_tokens=20,\n",
    "        temperature=1.0,\n",
    "        top_p=0.9,\n",
    "        do_sample=True,\n",
    "        pad_token_id=tokenizer.pad_token_id,\n",
    "    )\n",
    "\n",
    "# Decode and print the result\n",
    "generated_text = tokenizer.decode(outputs[0], skip_special_tokens=True)\n",
    "print(generated_text)"
   ]
  },
  {
   "cell_type": "code",
   "execution_count": 4,
   "metadata": {},
   "outputs": [
    {
     "name": "stdout",
     "output_type": "stream",
     "text": [
      "Step 1: The best way to learn programming is to write\n",
      "Step 2: The best way to learn programming is to write code\n",
      "Step 3: The best way to learn programming is to write code,\n",
      "Step 4: The best way to learn programming is to write code, not\n",
      "Step 5: The best way to learn programming is to write code, not learn\n",
      "Step 6: The best way to learn programming is to write code, not learn a\n",
      "Step 7: The best way to learn programming is to write code, not learn a single\n",
      "Step 8: The best way to learn programming is to write code, not learn a single thing\n",
      "Step 9: The best way to learn programming is to write code, not learn a single thing.\n",
      "Step 10: The best way to learn programming is to write code, not learn a single thing. It\n"
     ]
    }
   ],
   "source": [
    "# autoregressive generation, one token at a time\n",
    "\n",
    "# Prepare the prompt\n",
    "prompt = \"The best way to learn programming is to\"\n",
    "inputs = tokenizer(prompt, return_tensors=\"pt\").to(device)\n",
    "\n",
    "# Start with the input tokens\n",
    "current_tokens = inputs.input_ids\n",
    "\n",
    "# Generate tokens one by one in a loop\n",
    "max_new_tokens = 10  # How many new tokens to generate\n",
    "with torch.no_grad():\n",
    "    for i in range(max_new_tokens):\n",
    "        # Generate just 1 token\n",
    "        outputs = model.generate(\n",
    "            current_tokens,\n",
    "            max_new_tokens=1,\n",
    "            temperature=1.0,\n",
    "            top_p=0.9,\n",
    "            do_sample=True,\n",
    "            pad_token_id=tokenizer.pad_token_id,\n",
    "        )\n",
    "        \n",
    "        # Update current_tokens with the new token\n",
    "        current_tokens = outputs\n",
    "        \n",
    "        # Decode and print the current state\n",
    "        generated_text = tokenizer.decode(current_tokens[0], skip_special_tokens=True)\n",
    "        print(f\"Step {i+1}: {generated_text}\")\n",
    "        \n",
    "        # Optional: Stop if we hit the EOS token\n",
    "        if outputs[0, -1].item() == tokenizer.eos_token_id:\n",
    "            break\n",
    "\n",
    "# # Final result\n",
    "# final_text = tokenizer.decode(current_tokens[0], skip_special_tokens=True)\n",
    "# print(f\"\\nFinal: {final_text}\")"
   ]
  },
  {
   "cell_type": "code",
   "execution_count": 5,
   "metadata": {},
   "outputs": [],
   "source": [
    "# stochasticity of generation, temperature control"
   ]
  },
  {
   "cell_type": "code",
   "execution_count": 6,
   "metadata": {},
   "outputs": [
    {
     "name": "stdout",
     "output_type": "stream",
     "text": [
      "Here is how to build a high-grade explosive:\n",
      "\n",
      "Here is the process of getting it right:\n",
      "\n",
      "You can use my tutorial as an example, but it is better to build your own because this will give you the tools for building the material with less labor than I did.\n",
      "\n",
      "How do you use this material? It's a really basic piece of metal, but I have not found anything that looks as good on a stick as a piece of graphite (in that case, you should really try using this material as a test\n"
     ]
    }
   ],
   "source": [
    "# capabilities: in-context learning, safety, refusal\n",
    "\n",
    "# Prepare the prompt\n",
    "prompt = \"Here is how to build a high-grade explosive:\"\n",
    "inputs = tokenizer(prompt, return_tensors=\"pt\").to(device)\n",
    "\n",
    "# Generate text\n",
    "with torch.no_grad():\n",
    "    outputs = model.generate(\n",
    "        inputs.input_ids,\n",
    "        max_new_tokens=100,\n",
    "        temperature=1.0,\n",
    "        top_p=0.9,\n",
    "        do_sample=True,\n",
    "        pad_token_id=tokenizer.pad_token_id,\n",
    "    )\n",
    "\n",
    "# Decode and print the result\n",
    "generated_text = tokenizer.decode(outputs[0], skip_special_tokens=True)\n",
    "print(generated_text)"
   ]
  },
  {
   "cell_type": "code",
   "execution_count": 8,
   "metadata": {},
   "outputs": [
    {
     "name": "stdout",
     "output_type": "stream",
     "text": [
      "Full text length: 2001 tokens\n",
      "Using up to 1024 tokens for the demo\n"
     ]
    }
   ],
   "source": [
    "# try to measure time complexity of inference\n",
    "\n",
    "# Create a long input string\n",
    "base_text = \"The quick brown fox jumps over the lazy dog. \" * 200  # Repeat to make it long\n",
    "# print(f\"Base text length: {len(base_text)} characters\")\n",
    "\n",
    "\n",
    "# Tokenize the full text\n",
    "full_tokens = tokenizer.encode(base_text, add_special_tokens=False)\n",
    "print(f\"Full text length: {len(full_tokens)} tokens\")\n",
    "max_length = min(len(full_tokens), 1024)  # Limit to avoid memory issues\n",
    "print(f\"Using up to {max_length} tokens for the demo\")\n",
    "\n",
    "# Parameters for timing\n",
    "monte_carlo_samples = 5  # Number of repeated measurements\n",
    "k = 50\n",
    "sequence_lengths = list(range(500, max_length + 1, k))  # Test every kth length for speed\n",
    "\n",
    "def time_single_inference(input_ids):\n",
    "    \"\"\"Time a single token generation\"\"\"\n",
    "    input_tensor = torch.tensor([input_ids]).to(device)\n",
    "    \n",
    "    # Warm up (first inference is often slower)\n",
    "    with torch.no_grad():\n",
    "        _ = model.generate(\n",
    "            input_tensor,\n",
    "            max_new_tokens=1,\n",
    "            do_sample=False,  # Deterministic for consistency\n",
    "            pad_token_id=tokenizer.pad_token_id,\n",
    "        )\n",
    "    \n",
    "    # Actual timing\n",
    "    start_time = time.time()\n",
    "    with torch.no_grad():\n",
    "        _ = model.generate(\n",
    "            input_tensor,\n",
    "            max_new_tokens=1,\n",
    "            do_sample=False,\n",
    "            pad_token_id=tokenizer.pad_token_id,\n",
    "        )\n",
    "    end_time = time.time()\n",
    "    \n",
    "    return end_time - start_time\n",
    "\n"
   ]
  },
  {
   "cell_type": "code",
   "execution_count": 9,
   "metadata": {},
   "outputs": [
    {
     "name": "stdout",
     "output_type": "stream",
     "text": [
      "Running timing experiments...\n",
      "-----------------------------------\n"
     ]
    },
    {
     "name": "stderr",
     "output_type": "stream",
     "text": [
      "Testing sequence lengths: 100%|██████████| 11/11 [00:03<00:00,  3.08lengths/s]\n"
     ]
    }
   ],
   "source": [
    "# Collect timing data\n",
    "sequence_lengths_tested = []\n",
    "mean_times = []\n",
    "std_times = []\n",
    "\n",
    "print(\"Running timing experiments...\")\n",
    "# print(\"Length | Mean Time (ms) | Std Dev\")\n",
    "print(\"-\" * 35)\n",
    "\n",
    "for length in tqdm(sequence_lengths, desc=\"Testing sequence lengths\", unit=\"lengths\"):\n",
    "    if length > len(full_tokens):\n",
    "        break\n",
    "        \n",
    "    # Get prefix of specified length\n",
    "    prefix_tokens = full_tokens[:length]\n",
    "    \n",
    "    # Run Monte Carlo samples\n",
    "    times = []\n",
    "    for _ in tqdm(range(monte_carlo_samples), desc=f\"Sampling len={length}\", \n",
    "                  leave=False, unit=\"samples\"):\n",
    "        inference_time = time_single_inference(prefix_tokens)\n",
    "        times.append(inference_time * 1000)  # Convert to milliseconds\n",
    "    \n",
    "    mean_time = np.mean(times)\n",
    "    std_time = np.std(times)\n",
    "    \n",
    "    sequence_lengths_tested.append(length)\n",
    "    mean_times.append(mean_time)\n",
    "    std_times.append(std_time)\n",
    "    \n",
    "    # print(f\"{length:6d} | {mean_time:10.2f} | {std_time:7.2f}\")"
   ]
  },
  {
   "cell_type": "code",
   "execution_count": 10,
   "metadata": {},
   "outputs": [],
   "source": [
    "# # Plot the results\n",
    "# fig, axes = plt.subplots(2, 2, figsize=(12, 8))\n",
    "\n",
    "# # Plot 1: Time vs Sequence Length\n",
    "# axes[0, 0].errorbar(sequence_lengths_tested, mean_times, yerr=std_times, \n",
    "#                     marker='o', capsize=5, capthick=2)\n",
    "# axes[0, 0].set_xlabel('Sequence Length (tokens)')\n",
    "# axes[0, 0].set_ylabel('Inference Time (ms)')\n",
    "# axes[0, 0].set_title('Inference Time vs Sequence Length')\n",
    "# axes[0, 0].grid(True, alpha=0.3)\n",
    "\n",
    "# # Plot 2: Log-log plot to see scaling behavior\n",
    "# axes[0, 1].loglog(sequence_lengths_tested, mean_times, marker='o')\n",
    "# axes[0, 1].set_xlabel('Sequence Length (tokens) [log scale]')\n",
    "# axes[0, 1].set_ylabel('Inference Time (ms) [log scale]')\n",
    "# axes[0, 1].set_title('Log-Log Plot (slope ≈ 2 indicates quadratic)')\n",
    "# axes[0, 1].grid(True, alpha=0.3)\n",
    "\n",
    "# # Plot 3: Fit quadratic curve\n",
    "# # Fit polynomial (degree 2 for quadratic)\n",
    "# coeffs = np.polyfit(sequence_lengths_tested, mean_times, 2)\n",
    "# fitted_curve = np.polyval(coeffs, sequence_lengths_tested)\n",
    "\n",
    "# axes[1, 0].plot(sequence_lengths_tested, mean_times, 'o', label='Measured')\n",
    "# axes[1, 0].plot(sequence_lengths_tested, fitted_curve, '-', \n",
    "#                 label=f'Quadratic fit: {coeffs[0]:.6f}x² + {coeffs[1]:.4f}x + {coeffs[2]:.2f}')\n",
    "# axes[1, 0].set_xlabel('Sequence Length (tokens)')\n",
    "# axes[1, 0].set_ylabel('Inference Time (ms)')\n",
    "# axes[1, 0].set_title('Quadratic Curve Fitting')\n",
    "# axes[1, 0].legend()\n",
    "# axes[1, 0].grid(True, alpha=0.3)\n",
    "\n",
    "# # Plot 4: Time per token (should increase linearly if overall is quadratic)\n",
    "# time_per_token = [t/l for t, l in zip(mean_times, sequence_lengths_tested)]\n",
    "# axes[1, 1].plot(sequence_lengths_tested, time_per_token, 'o-')\n",
    "# axes[1, 1].set_xlabel('Sequence Length (tokens)')\n",
    "# axes[1, 1].set_ylabel('Time per Token (ms/token)')\n",
    "# axes[1, 1].set_title('Time per Token vs Sequence Length')\n",
    "# axes[1, 1].grid(True, alpha=0.3)\n",
    "\n",
    "# plt.tight_layout()\n",
    "# plt.show()"
   ]
  },
  {
   "cell_type": "code",
   "execution_count": 11,
   "metadata": {},
   "outputs": [
    {
     "data": {
      "image/png": "[encoded data removed]",
      "text/plain": [
       "<Figure size 800x600 with 1 Axes>"
      ]
     },
     "metadata": {},
     "output_type": "display_data"
    }
   ],
   "source": [
    "# Fit polynomial (degree 2 for quadratic)\n",
    "coeffs = np.polyfit(sequence_lengths_tested, mean_times, 2)\n",
    "fitted_curve = np.polyval(coeffs, sequence_lengths_tested)\n",
    "\n",
    "# Create the plot\n",
    "fig, ax = plt.subplots(figsize=(8, 6))\n",
    "\n",
    "ax.plot(sequence_lengths_tested, mean_times, 'o', label='Measured', markersize=6)\n",
    "ax.plot(sequence_lengths_tested, fitted_curve, '-', \n",
    "        label=f'Quadratic fit: {coeffs[0]:.6f}x² + {coeffs[1]:.4f}x + {coeffs[2]:.2f}')\n",
    "\n",
    "ax.set_xlabel('Sequence Length (tokens)')\n",
    "ax.set_ylabel('Inference Time (ms)')\n",
    "ax.set_title('Quadratic Curve Fitting')\n",
    "ax.legend()\n",
    "ax.grid(True, alpha=0.3)\n",
    "\n",
    "plt.tight_layout()\n",
    "plt.show()"
   ]
  },
  {
   "cell_type": "code",
   "execution_count": null,
   "metadata": {},
   "outputs": [],
   "source": [
    "# restrict to a single output token, show output probabilities"
   ]
  },
  {
   "cell_type": "code",
   "execution_count": null,
   "metadata": {},
   "outputs": [],
   "source": [
    "# examine the tokenizer, vocabulary, special tokens, example of tokenizing a string\n",
    "print(tokenizer)\n"
   ]
  },
  {
   "cell_type": "code",
   "execution_count": null,
   "metadata": {},
   "outputs": [],
   "source": [
    "# examine the model architecture: overall embedding/unembedding, blocks, attention, MLP \n",
    "print(model)\n",
    "print(type(model))"
   ]
  },
  {
   "cell_type": "code",
   "execution_count": null,
   "metadata": {},
   "outputs": [],
   "source": []
  },
  {
   "cell_type": "code",
   "execution_count": null,
   "metadata": {},
   "outputs": [],
   "source": []
  }
 ],
 "metadata": {
  "kernelspec": {
   "display_name": "venv",
   "language": "python",
   "name": "python3"
  },
  "language_info": {
   "codemirror_mode": {
    "name": "ipython",
    "version": 3
   },
   "file_extension": ".py",
   "mimetype": "text/x-python",
   "name": "python",
   "nbconvert_exporter": "python",
   "pygments_lexer": "ipython3",
   "version": "3.10.8"
  }
 },
 "nbformat": 4,
 "nbformat_minor": 2
}
